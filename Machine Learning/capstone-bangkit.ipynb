{
 "cells": [
  {
   "cell_type": "code",
   "execution_count": 1,
   "id": "607b02e6",
   "metadata": {
    "execution": {
     "iopub.execute_input": "2023-06-06T14:29:55.272273Z",
     "iopub.status.busy": "2023-06-06T14:29:55.271913Z",
     "iopub.status.idle": "2023-06-06T14:30:04.577661Z",
     "shell.execute_reply": "2023-06-06T14:30:04.576679Z"
    },
    "id": "qsiemr_hUmeg",
    "papermill": {
     "duration": 9.315812,
     "end_time": "2023-06-06T14:30:04.580367",
     "exception": false,
     "start_time": "2023-06-06T14:29:55.264555",
     "status": "completed"
    },
    "tags": []
   },
   "outputs": [
    {
     "name": "stderr",
     "output_type": "stream",
     "text": [
      "/opt/conda/lib/python3.10/site-packages/tensorflow_io/python/ops/__init__.py:98: UserWarning: unable to load libtensorflow_io_plugins.so: unable to open file: libtensorflow_io_plugins.so, from paths: ['/opt/conda/lib/python3.10/site-packages/tensorflow_io/python/ops/libtensorflow_io_plugins.so']\n",
      "caused by: ['/opt/conda/lib/python3.10/site-packages/tensorflow_io/python/ops/libtensorflow_io_plugins.so: undefined symbol: _ZN3tsl6StatusC1EN10tensorflow5error4CodeESt17basic_string_viewIcSt11char_traitsIcEENS_14SourceLocationE']\n",
      "  warnings.warn(f\"unable to load libtensorflow_io_plugins.so: {e}\")\n",
      "/opt/conda/lib/python3.10/site-packages/tensorflow_io/python/ops/__init__.py:104: UserWarning: file system plugins are not loaded: unable to open file: libtensorflow_io.so, from paths: ['/opt/conda/lib/python3.10/site-packages/tensorflow_io/python/ops/libtensorflow_io.so']\n",
      "caused by: ['/opt/conda/lib/python3.10/site-packages/tensorflow_io/python/ops/libtensorflow_io.so: undefined symbol: _ZTVN10tensorflow13GcsFileSystemE']\n",
      "  warnings.warn(f\"file system plugins are not loaded: {e}\")\n"
     ]
    }
   ],
   "source": [
    "import os\n",
    "import random\n",
    "import shutil\n",
    "import tensorflow as tf\n",
    "from tensorflow.keras.preprocessing.image import ImageDataGenerator\n",
    "from tensorflow.keras import Model\n",
    "from tensorflow.keras.utils import img_to_array, load_img\n",
    "from shutil import copyfile\n",
    "from PIL import Image\n",
    "import matplotlib.pyplot as plt"
   ]
  },
  {
   "cell_type": "code",
   "execution_count": 2,
   "id": "b61fcfac",
   "metadata": {
    "execution": {
     "iopub.execute_input": "2023-06-06T14:30:04.593567Z",
     "iopub.status.busy": "2023-06-06T14:30:04.592978Z",
     "iopub.status.idle": "2023-06-06T14:30:04.617554Z",
     "shell.execute_reply": "2023-06-06T14:30:04.616701Z"
    },
    "id": "9MhyOKto6m4S",
    "papermill": {
     "duration": 0.033584,
     "end_time": "2023-06-06T14:30:04.619987",
     "exception": false,
     "start_time": "2023-06-06T14:30:04.586403",
     "status": "completed"
    },
    "tags": []
   },
   "outputs": [],
   "source": [
    "# Membuat direktori untuk menempatka data yang akan digunakan\n",
    "\n",
    "root_dir = '/kaggle/working/Dataset'\n",
    "resized_dir = '/kaggle/working/Resized_Dataset'\n",
    "source_dir = '/kaggle/input/wisata-semarangan/Dataset'\n",
    "\n",
    "if os.path.exists(root_dir):\n",
    "  shutil.rmtree(root_dir)\n",
    "  shutil.rmtree(resized_dir)\n",
    "\n",
    "def create_train_test_dirs(root_path, resized_path):\n",
    "  os.mkdir(root_path)\n",
    "  os.mkdir(resized_path)\n",
    "  os.mkdir(os.path.join(root_path, 'training'))\n",
    "  os.mkdir(os.path.join(root_path, 'testing'))\n",
    "\n",
    "  for foldername in os.listdir(source_dir):\n",
    "    for i in os.listdir(root_path):\n",
    "      os.mkdir(os.path.join(root_path, i, foldername))\n",
    "    \n",
    "    os.mkdir(os.path.join(resized_path, foldername))\n",
    "\n",
    "try:\n",
    "  create_train_test_dirs(root_path=root_dir, resized_path=resized_dir)\n",
    "except FileExistsError:\n",
    "  print(\"File Sudah Ada\")"
   ]
  },
  {
   "cell_type": "code",
   "execution_count": 3,
   "id": "6f49c7e1",
   "metadata": {
    "execution": {
     "iopub.execute_input": "2023-06-06T14:30:04.631963Z",
     "iopub.status.busy": "2023-06-06T14:30:04.631657Z",
     "iopub.status.idle": "2023-06-06T14:30:04.636977Z",
     "shell.execute_reply": "2023-06-06T14:30:04.636033Z"
    },
    "id": "GQPUoN-Sr4M4",
    "papermill": {
     "duration": 0.013464,
     "end_time": "2023-06-06T14:30:04.639091",
     "exception": false,
     "start_time": "2023-06-06T14:30:04.625627",
     "status": "completed"
    },
    "tags": []
   },
   "outputs": [],
   "source": [
    "# Resized gambar agar memiliku jumlah pixel yang sama\n",
    "def resize_dataset(path, new_path, new_size):\n",
    "  for filename in os.scandir(path):\n",
    "    img = Image.open(os.path.join(path, filename.name))\n",
    "    img_resized= img.resize(new_size)\n",
    "    img_resized.save(os.path.join(new_path, filename.name))"
   ]
  },
  {
   "cell_type": "code",
   "execution_count": 4,
   "id": "cf3964e1",
   "metadata": {
    "execution": {
     "iopub.execute_input": "2023-06-06T14:30:04.651292Z",
     "iopub.status.busy": "2023-06-06T14:30:04.650566Z",
     "iopub.status.idle": "2023-06-06T14:30:04.657699Z",
     "shell.execute_reply": "2023-06-06T14:30:04.656928Z"
    },
    "id": "YJrZOASSN9nc",
    "papermill": {
     "duration": 0.01533,
     "end_time": "2023-06-06T14:30:04.659740",
     "exception": false,
     "start_time": "2023-06-06T14:30:04.644410",
     "status": "completed"
    },
    "tags": []
   },
   "outputs": [],
   "source": [
    "# Membuat fungsi untuk menyalin data dari sumber data ke train dan test dir seusai yang diinginkan\n",
    "\n",
    "def split_data(SOURCE_DIR, TRAINING_DIR, VALIDATION_DIR, SPLIT_SIZE):\n",
    "  all_files = []\n",
    "    \n",
    "  for file_name in os.listdir(SOURCE_DIR):\n",
    "      file_path = SOURCE_DIR + file_name\n",
    "\n",
    "      if os.path.getsize(file_path):\n",
    "          all_files.append(file_name)\n",
    "      else:\n",
    "          print('{} is zero length, so ignoring'.format(file_name))\n",
    "          \n",
    "  SPLIT_SIZE = int(SPLIT_SIZE * len(all_files))\n",
    "  shuffled = random.sample(all_files, len(all_files))\n",
    "  train, test = shuffled[:SPLIT_SIZE], shuffled[SPLIT_SIZE:]\n",
    "\n",
    "  for filename in train:\n",
    "    copyfile(SOURCE_DIR + filename, TRAINING_DIR + filename)\n",
    "\n",
    "  for filename in test:\n",
    "    copyfile(SOURCE_DIR + filename, VALIDATION_DIR + filename)"
   ]
  },
  {
   "cell_type": "code",
   "execution_count": 5,
   "id": "a83380b2",
   "metadata": {
    "execution": {
     "iopub.execute_input": "2023-06-06T14:30:04.672079Z",
     "iopub.status.busy": "2023-06-06T14:30:04.671813Z",
     "iopub.status.idle": "2023-06-06T14:30:04.686311Z",
     "shell.execute_reply": "2023-06-06T14:30:04.685516Z"
    },
    "id": "xpEYzUccO5F_",
    "papermill": {
     "duration": 0.022915,
     "end_time": "2023-06-06T14:30:04.688316",
     "exception": false,
     "start_time": "2023-06-06T14:30:04.665401",
     "status": "completed"
    },
    "tags": []
   },
   "outputs": [],
   "source": [
    "# Lokasi Dataset Tiap Penyakit\n",
    "goa_kreo_source = os.path.join(source_dir, 'GoaKreo/')\n",
    "lawang_sewu_source = os.path.join(source_dir, 'LawangSewu/')\n",
    "tugu_muda_source = os.path.join(source_dir, 'TuguMuda/')\n",
    "pagoda_source = os.path.join(source_dir, 'PagodaAvalokitesvara/')\n",
    "pura_source = os.path.join(source_dir, 'PuraAgungGiriNatha/')\n",
    "sampokong_source = os.path.join(source_dir, 'sampokong/')\n",
    "kampung_pelangi_source = os.path.join(source_dir, 'kampungPelangi/')\n",
    "kota_lama_source = os.path.join(source_dir, 'kotaLama/')\n",
    "majt_source = os.path.join(source_dir, 'majt/')\n",
    "ronggowarsito_source = os.path.join(source_dir, 'ronggowarsito/')\n",
    "\n",
    "# Lokasi Dataset Tiap Penyakit Yang Sudah Di Resize\n",
    "goa_kreo_resized = os.path.join(resized_dir, 'GoaKreo/')\n",
    "lawang_sewu_resized = os.path.join(resized_dir, 'LawangSewu/')\n",
    "tugu_muda_resized = os.path.join(resized_dir, 'TuguMuda/')\n",
    "pagoda_resized = os.path.join(resized_dir, 'PagodaAvalokitesvara/')\n",
    "pura_resized = os.path.join(resized_dir, 'PuraAgungGiriNatha/')\n",
    "sampokong_resized = os.path.join(resized_dir, 'sampokong/')\n",
    "kampung_pelangi_resized = os.path.join(resized_dir, 'kampungPelangi/')\n",
    "kota_lama_resized = os.path.join(resized_dir, 'kotaLama/')\n",
    "majt_resized = os.path.join(resized_dir, 'majt/')\n",
    "ronggowarsito_resized = os.path.join(resized_dir, 'ronggowarsito/')\n",
    "\n",
    "# Lokasi Utama Dataset Setelah Dibagi\n",
    "train_dir = os.path.join(root_dir, 'training/')\n",
    "test_dir = os.path.join(root_dir, 'testing/')\n",
    "\n",
    "# Lokasi Dataset Training Tiap Penyakit Setelah Di Bagi\n",
    "train_goa_kreo_dir = os.path.join(train_dir, 'GoaKreo/')\n",
    "train_lawang_sewu_dir = os.path.join(train_dir, 'LawangSewu/')\n",
    "train_tugu_muda_dir = os.path.join(train_dir, 'TuguMuda/')\n",
    "train_pagoda_dir = os.path.join(train_dir, 'PagodaAvalokitesvara/')\n",
    "train_pura_dir = os.path.join(train_dir, 'PuraAgungGiriNatha/')\n",
    "train_sampokong_dir = os.path.join(train_dir, 'sampokong/')\n",
    "train_kampung_pelangi_dir = os.path.join(train_dir, 'kampungPelangi/')\n",
    "train_kota_lama_dir = os.path.join(train_dir, 'kotaLama/')\n",
    "train_majt_dir = os.path.join(train_dir, 'majt/')\n",
    "train_ronggowarsito_dir = os.path.join(train_dir, 'ronggowarsito/')\n",
    "\n",
    "# Lokasi Dataset Testing Tiap Penyakit Setelah Di Bagi\n",
    "test_goa_kreo_dir = os.path.join(test_dir, 'GoaKreo/')\n",
    "test_lawang_sewu_dir = os.path.join(test_dir, 'LawangSewu/')\n",
    "test_tugu_muda_dir = os.path.join(test_dir, 'TuguMuda/')\n",
    "test_pagoda_dir = os.path.join(test_dir, 'PagodaAvalokitesvara/')\n",
    "test_pura_dir = os.path.join(test_dir, 'PuraAgungGiriNatha/')\n",
    "test_sampokong_dir = os.path.join(test_dir, 'sampokong/')\n",
    "test_kampung_pelangi_dir = os.path.join(test_dir, 'kampungPelangi/')\n",
    "test_kota_lama_dir = os.path.join(test_dir, 'kotaLama/')\n",
    "test_majt_dir = os.path.join(test_dir, 'majt/')\n",
    "test_ronggowarsito_dir = os.path.join(test_dir, 'ronggowarsito/')"
   ]
  },
  {
   "cell_type": "code",
   "execution_count": 6,
   "id": "49a238b1",
   "metadata": {
    "execution": {
     "iopub.execute_input": "2023-06-06T14:30:04.700531Z",
     "iopub.status.busy": "2023-06-06T14:30:04.699798Z",
     "iopub.status.idle": "2023-06-06T14:30:04.707584Z",
     "shell.execute_reply": "2023-06-06T14:30:04.706788Z"
    },
    "id": "uAK5f1FHu_S0",
    "papermill": {
     "duration": 0.015958,
     "end_time": "2023-06-06T14:30:04.709574",
     "exception": false,
     "start_time": "2023-06-06T14:30:04.693616",
     "status": "completed"
    },
    "tags": []
   },
   "outputs": [],
   "source": [
    "# Hapus Isi Seluruh Direktori Test dan Train Jika Kode Dijalankan Cell Di Bawah Dijalankan 2 Kali\n",
    "train_dir_var = [train_goa_kreo_dir, train_lawang_sewu_dir, train_tugu_muda_dir, train_pagoda_dir, train_pura_dir, train_sampokong_dir, train_kampung_pelangi_dir, train_kota_lama_dir, train_majt_dir, train_ronggowarsito_dir]\n",
    "test_dir_var = [test_goa_kreo_dir, test_lawang_sewu_dir, test_tugu_muda_dir, test_pagoda_dir, test_pura_dir, test_sampokong_dir, test_kampung_pelangi_dir, test_kota_lama_dir, test_majt_dir, test_ronggowarsito_dir]\n",
    "\n",
    "for i in train_dir_var:\n",
    "  for j in test_dir_var:\n",
    "    if train_dir_var.index(i) == test_dir_var.index(j):\n",
    "      if len(os.listdir(i)) > 0 or len(os.listdir(j)) > 0:\n",
    "        for file in os.scandir(i):\n",
    "          os.remove(file.path)\n",
    "        for file in os.scandir(j):\n",
    "          os.remove(file.path)"
   ]
  },
  {
   "cell_type": "code",
   "execution_count": 7,
   "id": "e9034095",
   "metadata": {
    "execution": {
     "iopub.execute_input": "2023-06-06T14:30:04.721886Z",
     "iopub.status.busy": "2023-06-06T14:30:04.721134Z",
     "iopub.status.idle": "2023-06-06T14:30:04.727246Z",
     "shell.execute_reply": "2023-06-06T14:30:04.726481Z"
    },
    "id": "e8HiQth0r9I7",
    "papermill": {
     "duration": 0.014386,
     "end_time": "2023-06-06T14:30:04.729229",
     "exception": false,
     "start_time": "2023-06-06T14:30:04.714843",
     "status": "completed"
    },
    "tags": []
   },
   "outputs": [],
   "source": [
    "# Hapus Isi Seluruh Direktori Resized_Dataset Jika Sudah Ada Isinya\n",
    "resized_dir_var = [goa_kreo_resized, lawang_sewu_resized, tugu_muda_resized, pagoda_resized, pura_resized, sampokong_resized, kampung_pelangi_resized, kota_lama_resized, majt_resized, ronggowarsito_resized]\n",
    "source_dir_var = [goa_kreo_source, lawang_sewu_source, tugu_muda_source, pagoda_source, pura_source, sampokong_source, kampung_pelangi_source, kota_lama_source, majt_source, ronggowarsito_source]\n",
    "\n",
    "for i in resized_dir_var:\n",
    "  if len(os.listdir(i)) > 0:\n",
    "    for file in os.scandir(i):\n",
    "      os.remove(file.path)"
   ]
  },
  {
   "cell_type": "markdown",
   "id": "a1d08da2",
   "metadata": {
    "id": "zdkliYls0HaA",
    "papermill": {
     "duration": 0.005119,
     "end_time": "2023-06-06T14:30:04.739558",
     "exception": false,
     "start_time": "2023-06-06T14:30:04.734439",
     "status": "completed"
    },
    "tags": []
   },
   "source": []
  },
  {
   "cell_type": "code",
   "execution_count": 8,
   "id": "9ec3cd6c",
   "metadata": {
    "execution": {
     "iopub.execute_input": "2023-06-06T14:30:04.751771Z",
     "iopub.status.busy": "2023-06-06T14:30:04.750998Z",
     "iopub.status.idle": "2023-06-06T14:30:24.657691Z",
     "shell.execute_reply": "2023-06-06T14:30:24.656451Z"
    },
    "id": "pVqpd2lEr-Nb",
    "papermill": {
     "duration": 19.915578,
     "end_time": "2023-06-06T14:30:24.660484",
     "exception": false,
     "start_time": "2023-06-06T14:30:04.744906",
     "status": "completed"
    },
    "tags": []
   },
   "outputs": [],
   "source": [
    "# Resize ukuran pixel dari dataset\n",
    "new_size = (300, 300)\n",
    "\n",
    "for source in source_dir_var:\n",
    "  for resized in resized_dir_var:\n",
    "    if source_dir_var.index(source) == resized_dir_var.index(resized):\n",
    "      resize_dataset(source, resized, new_size)"
   ]
  },
  {
   "cell_type": "code",
   "execution_count": 9,
   "id": "f8facfd4",
   "metadata": {
    "execution": {
     "iopub.execute_input": "2023-06-06T14:30:24.673450Z",
     "iopub.status.busy": "2023-06-06T14:30:24.673109Z",
     "iopub.status.idle": "2023-06-06T14:30:24.749635Z",
     "shell.execute_reply": "2023-06-06T14:30:24.748643Z"
    },
    "id": "ulxXTi8Kwqrw",
    "papermill": {
     "duration": 0.086016,
     "end_time": "2023-06-06T14:30:24.752217",
     "exception": false,
     "start_time": "2023-06-06T14:30:24.666201",
     "status": "completed"
    },
    "tags": []
   },
   "outputs": [],
   "source": [
    "# Pisahkan dan salin data mengguakan fungsi split_data\n",
    "split_size = .85\n",
    "\n",
    "for resized in resized_dir_var:\n",
    "  for train in train_dir_var:\n",
    "    for test in test_dir_var:\n",
    "      if resized_dir_var.index(resized) == train_dir_var.index(train) == test_dir_var.index(test):\n",
    "        split_data(resized, train, test, split_size)"
   ]
  },
  {
   "cell_type": "code",
   "execution_count": 10,
   "id": "93c3ff70",
   "metadata": {
    "execution": {
     "iopub.execute_input": "2023-06-06T14:30:24.765138Z",
     "iopub.status.busy": "2023-06-06T14:30:24.764859Z",
     "iopub.status.idle": "2023-06-06T14:30:24.772832Z",
     "shell.execute_reply": "2023-06-06T14:30:24.771800Z"
    },
    "id": "lPK326ZIsOq_",
    "outputId": "eab46c6f-374c-41e5-deaa-864c8634f496",
    "papermill": {
     "duration": 0.017381,
     "end_time": "2023-06-06T14:30:24.775236",
     "exception": false,
     "start_time": "2023-06-06T14:30:24.757855",
     "status": "completed"
    },
    "tags": []
   },
   "outputs": [
    {
     "name": "stdout",
     "output_type": "stream",
     "text": [
      "Each image has shape: (300, 300, 3)\n"
     ]
    }
   ],
   "source": [
    "# Melihat contoh ukuran dataset\n",
    "sample_image  = load_img(f\"{os.path.join(test_goa_kreo_dir, os.listdir(test_goa_kreo_dir)[0])}\")\n",
    "sample_array = img_to_array(sample_image)\n",
    "\n",
    "print(f\"Each image has shape: {sample_array.shape}\")"
   ]
  },
  {
   "cell_type": "code",
   "execution_count": 11,
   "id": "c6e125ab",
   "metadata": {
    "execution": {
     "iopub.execute_input": "2023-06-06T14:30:24.787712Z",
     "iopub.status.busy": "2023-06-06T14:30:24.786987Z",
     "iopub.status.idle": "2023-06-06T14:30:24.825876Z",
     "shell.execute_reply": "2023-06-06T14:30:24.824991Z"
    },
    "id": "tQgEC93y0Ymg",
    "outputId": "b3a6f9d7-c4c3-412c-f040-98be3fa0cb6f",
    "papermill": {
     "duration": 0.047091,
     "end_time": "2023-06-06T14:30:24.827828",
     "exception": false,
     "start_time": "2023-06-06T14:30:24.780737",
     "status": "completed"
    },
    "tags": []
   },
   "outputs": [
    {
     "name": "stdout",
     "output_type": "stream",
     "text": [
      "Found 535 images belonging to 10 classes.\n",
      "Found 102 images belonging to 10 classes.\n"
     ]
    }
   ],
   "source": [
    "# Proses gambar yang akan digunakan dalam training dan testing model\n",
    "\n",
    "train_datagen = ImageDataGenerator(rescale=1./255.,\n",
    "                                     rotation_range=30,\n",
    "                                     width_shift_range=0.2,\n",
    "                                     height_shift_range=0.2,\n",
    "                                     shear_range=0.2,\n",
    "                                     zoom_range=0.3,\n",
    "                                     horizontal_flip=True,\n",
    "                                     fill_mode='nearest')\n",
    "\n",
    "train_generator = train_datagen.flow_from_directory(directory=train_dir,\n",
    "                                                      batch_size=30, \n",
    "                                                      class_mode='categorical',\n",
    "                                                      target_size=(300, 300))\n",
    "\n",
    "test_datagen = ImageDataGenerator(rescale=1./255.)\n",
    "\n",
    "test_generator = train_datagen.flow_from_directory(directory=test_dir,\n",
    "                                                      batch_size=30, \n",
    "                                                      class_mode='categorical',\n",
    "                                                      target_size=(300, 300))"
   ]
  },
  {
   "cell_type": "code",
   "execution_count": 12,
   "id": "3f525b33",
   "metadata": {
    "execution": {
     "iopub.execute_input": "2023-06-06T14:30:24.840628Z",
     "iopub.status.busy": "2023-06-06T14:30:24.839677Z",
     "iopub.status.idle": "2023-06-06T14:30:29.562613Z",
     "shell.execute_reply": "2023-06-06T14:30:29.561831Z"
    },
    "id": "RCk7SR7CYuT6",
    "outputId": "d4ad51f4-5116-45ac-d9ef-cc9ba56dcc9a",
    "papermill": {
     "duration": 4.747705,
     "end_time": "2023-06-06T14:30:29.580929",
     "exception": false,
     "start_time": "2023-06-06T14:30:24.833224",
     "status": "completed"
    },
    "tags": []
   },
   "outputs": [
    {
     "name": "stdout",
     "output_type": "stream",
     "text": [
      "Model: \"sequential\"\n",
      "_________________________________________________________________\n",
      " Layer (type)                Output Shape              Param #   \n",
      "=================================================================\n",
      " conv2d (Conv2D)             (None, 298, 298, 128)     3584      \n",
      "                                                                 \n",
      " max_pooling2d (MaxPooling2D  (None, 149, 149, 128)    0         \n",
      " )                                                               \n",
      "                                                                 \n",
      " conv2d_1 (Conv2D)           (None, 147, 147, 64)      73792     \n",
      "                                                                 \n",
      " max_pooling2d_1 (MaxPooling  (None, 73, 73, 64)       0         \n",
      " 2D)                                                             \n",
      "                                                                 \n",
      " conv2d_2 (Conv2D)           (None, 71, 71, 64)        36928     \n",
      "                                                                 \n",
      " max_pooling2d_2 (MaxPooling  (None, 35, 35, 64)       0         \n",
      " 2D)                                                             \n",
      "                                                                 \n",
      " flatten (Flatten)           (None, 78400)             0         \n",
      "                                                                 \n",
      " dense (Dense)               (None, 128)               10035328  \n",
      "                                                                 \n",
      " dense_1 (Dense)             (None, 10)                1290      \n",
      "                                                                 \n",
      "=================================================================\n",
      "Total params: 10,150,922\n",
      "Trainable params: 10,150,922\n",
      "Non-trainable params: 0\n",
      "_________________________________________________________________\n"
     ]
    }
   ],
   "source": [
    "# Buat model untuk melatih data\n",
    "\n",
    "model = tf.keras.models.Sequential([ \n",
    "    tf.keras.layers.Conv2D(128, (3,3), activation='relu', input_shape = (300, 300, 3)),\n",
    "    tf.keras.layers.MaxPooling2D(2,2),\n",
    "    tf.keras.layers.Conv2D(64, (3,3), activation='relu'),\n",
    "    tf.keras.layers.MaxPooling2D(2,2),\n",
    "    tf.keras.layers.Conv2D(64, (3,3), activation='relu'),\n",
    "    tf.keras.layers.MaxPooling2D(2,2),\n",
    "    tf.keras.layers.Flatten(), \n",
    "    tf.keras.layers.Dense(128, activation='relu'),\n",
    "    tf.keras.layers.Dense(10, activation='softmax')\n",
    "])\n",
    "\n",
    "model.compile(optimizer='adam',\n",
    "              loss='categorical_crossentropy',\n",
    "              metrics=['accuracy'])\n",
    "\n",
    "model.summary()"
   ]
  },
  {
   "cell_type": "code",
   "execution_count": 13,
   "id": "02676ff6",
   "metadata": {
    "execution": {
     "iopub.execute_input": "2023-06-06T14:30:29.597744Z",
     "iopub.status.busy": "2023-06-06T14:30:29.597456Z",
     "iopub.status.idle": "2023-06-06T14:57:26.702328Z",
     "shell.execute_reply": "2023-06-06T14:57:26.701350Z"
    },
    "id": "wPMSBETOmVZo",
    "outputId": "bd37b712-1e0f-4a91-995f-63bdc8a3aa20",
    "papermill": {
     "duration": 1617.115944,
     "end_time": "2023-06-06T14:57:26.704591",
     "exception": false,
     "start_time": "2023-06-06T14:30:29.588647",
     "status": "completed"
    },
    "tags": []
   },
   "outputs": [
    {
     "name": "stdout",
     "output_type": "stream",
     "text": [
      "Epoch 1/100\n",
      "18/18 [==============================] - 31s 963ms/step - loss: 2.8083 - accuracy: 0.1383 - val_loss: 2.2648 - val_accuracy: 0.1373\n",
      "Epoch 2/100\n",
      "18/18 [==============================] - 14s 752ms/step - loss: 2.2621 - accuracy: 0.1514 - val_loss: 2.2021 - val_accuracy: 0.1863\n",
      "Epoch 3/100\n",
      "18/18 [==============================] - 13s 727ms/step - loss: 2.1897 - accuracy: 0.1664 - val_loss: 2.2489 - val_accuracy: 0.1863\n",
      "Epoch 4/100\n",
      "18/18 [==============================] - 14s 776ms/step - loss: 2.1748 - accuracy: 0.2093 - val_loss: 2.2007 - val_accuracy: 0.1863\n",
      "Epoch 5/100\n",
      "18/18 [==============================] - 14s 790ms/step - loss: 2.1554 - accuracy: 0.2131 - val_loss: 2.0714 - val_accuracy: 0.3235\n",
      "Epoch 6/100\n",
      "18/18 [==============================] - 13s 748ms/step - loss: 2.0508 - accuracy: 0.2318 - val_loss: 1.9739 - val_accuracy: 0.3333\n",
      "Epoch 7/100\n",
      "18/18 [==============================] - 14s 762ms/step - loss: 1.9195 - accuracy: 0.3121 - val_loss: 1.8913 - val_accuracy: 0.2843\n",
      "Epoch 8/100\n",
      "18/18 [==============================] - 13s 738ms/step - loss: 1.7790 - accuracy: 0.3682 - val_loss: 1.8730 - val_accuracy: 0.3333\n",
      "Epoch 9/100\n",
      "18/18 [==============================] - 14s 782ms/step - loss: 1.7814 - accuracy: 0.3682 - val_loss: 1.7844 - val_accuracy: 0.3824\n",
      "Epoch 10/100\n",
      "18/18 [==============================] - 13s 722ms/step - loss: 1.7383 - accuracy: 0.3850 - val_loss: 1.8160 - val_accuracy: 0.3137\n",
      "Epoch 11/100\n",
      "18/18 [==============================] - 14s 783ms/step - loss: 1.7181 - accuracy: 0.3607 - val_loss: 1.8377 - val_accuracy: 0.3627\n",
      "Epoch 12/100\n",
      "18/18 [==============================] - 14s 748ms/step - loss: 1.6786 - accuracy: 0.3907 - val_loss: 1.7098 - val_accuracy: 0.3529\n",
      "Epoch 13/100\n",
      "18/18 [==============================] - 14s 787ms/step - loss: 1.6315 - accuracy: 0.4355 - val_loss: 1.7682 - val_accuracy: 0.3333\n",
      "Epoch 14/100\n",
      "18/18 [==============================] - 13s 739ms/step - loss: 1.5382 - accuracy: 0.4766 - val_loss: 1.7857 - val_accuracy: 0.4020\n",
      "Epoch 15/100\n",
      "18/18 [==============================] - 14s 781ms/step - loss: 1.6557 - accuracy: 0.4168 - val_loss: 1.7093 - val_accuracy: 0.4510\n",
      "Epoch 16/100\n",
      "18/18 [==============================] - 13s 744ms/step - loss: 1.5544 - accuracy: 0.4579 - val_loss: 1.6817 - val_accuracy: 0.4020\n",
      "Epoch 17/100\n",
      "18/18 [==============================] - 14s 761ms/step - loss: 1.4903 - accuracy: 0.4636 - val_loss: 1.6442 - val_accuracy: 0.4314\n",
      "Epoch 18/100\n",
      "18/18 [==============================] - 13s 730ms/step - loss: 1.4584 - accuracy: 0.4991 - val_loss: 1.6010 - val_accuracy: 0.3922\n",
      "Epoch 19/100\n",
      "18/18 [==============================] - 14s 761ms/step - loss: 1.4079 - accuracy: 0.4991 - val_loss: 1.7589 - val_accuracy: 0.4118\n",
      "Epoch 20/100\n",
      "18/18 [==============================] - 13s 736ms/step - loss: 1.4121 - accuracy: 0.5047 - val_loss: 1.6707 - val_accuracy: 0.4314\n",
      "Epoch 21/100\n",
      "18/18 [==============================] - 14s 737ms/step - loss: 1.4113 - accuracy: 0.4935 - val_loss: 1.6278 - val_accuracy: 0.4020\n",
      "Epoch 22/100\n",
      "18/18 [==============================] - 13s 731ms/step - loss: 1.3557 - accuracy: 0.5271 - val_loss: 1.4989 - val_accuracy: 0.5000\n",
      "Epoch 23/100\n",
      "18/18 [==============================] - 14s 771ms/step - loss: 1.2645 - accuracy: 0.5439 - val_loss: 1.4914 - val_accuracy: 0.4706\n",
      "Epoch 24/100\n",
      "18/18 [==============================] - 13s 730ms/step - loss: 1.2805 - accuracy: 0.5458 - val_loss: 1.7809 - val_accuracy: 0.3922\n",
      "Epoch 25/100\n",
      "18/18 [==============================] - 14s 766ms/step - loss: 1.2403 - accuracy: 0.5776 - val_loss: 1.6804 - val_accuracy: 0.4314\n",
      "Epoch 26/100\n",
      "18/18 [==============================] - 13s 720ms/step - loss: 1.3037 - accuracy: 0.5458 - val_loss: 1.6593 - val_accuracy: 0.4804\n",
      "Epoch 27/100\n",
      "18/18 [==============================] - 14s 755ms/step - loss: 1.1578 - accuracy: 0.5963 - val_loss: 1.6715 - val_accuracy: 0.4510\n",
      "Epoch 28/100\n",
      "18/18 [==============================] - 13s 732ms/step - loss: 1.1845 - accuracy: 0.6019 - val_loss: 1.7232 - val_accuracy: 0.4608\n",
      "Epoch 29/100\n",
      "18/18 [==============================] - 14s 769ms/step - loss: 1.0787 - accuracy: 0.6486 - val_loss: 1.6569 - val_accuracy: 0.5490\n",
      "Epoch 30/100\n",
      "18/18 [==============================] - 13s 745ms/step - loss: 1.2260 - accuracy: 0.5570 - val_loss: 1.5384 - val_accuracy: 0.4902\n",
      "Epoch 31/100\n",
      "18/18 [==============================] - 13s 727ms/step - loss: 1.1592 - accuracy: 0.6019 - val_loss: 1.6055 - val_accuracy: 0.5098\n",
      "Epoch 32/100\n",
      "18/18 [==============================] - 13s 731ms/step - loss: 1.2023 - accuracy: 0.5944 - val_loss: 1.7209 - val_accuracy: 0.4118\n",
      "Epoch 33/100\n",
      "18/18 [==============================] - 13s 721ms/step - loss: 1.0914 - accuracy: 0.6187 - val_loss: 1.4339 - val_accuracy: 0.5490\n",
      "Epoch 34/100\n",
      "18/18 [==============================] - 14s 758ms/step - loss: 1.1342 - accuracy: 0.6000 - val_loss: 1.4555 - val_accuracy: 0.4902\n",
      "Epoch 35/100\n",
      "18/18 [==============================] - 13s 741ms/step - loss: 1.1071 - accuracy: 0.6093 - val_loss: 1.5848 - val_accuracy: 0.4902\n",
      "Epoch 36/100\n",
      "18/18 [==============================] - 13s 746ms/step - loss: 0.9681 - accuracy: 0.6636 - val_loss: 1.5681 - val_accuracy: 0.5196\n",
      "Epoch 37/100\n",
      "18/18 [==============================] - 14s 771ms/step - loss: 0.9541 - accuracy: 0.6636 - val_loss: 1.5547 - val_accuracy: 0.4902\n",
      "Epoch 38/100\n",
      "18/18 [==============================] - 14s 777ms/step - loss: 0.9894 - accuracy: 0.6673 - val_loss: 1.4547 - val_accuracy: 0.4902\n",
      "Epoch 39/100\n",
      "18/18 [==============================] - 14s 752ms/step - loss: 0.9719 - accuracy: 0.6766 - val_loss: 1.5749 - val_accuracy: 0.5588\n",
      "Epoch 40/100\n",
      "18/18 [==============================] - 14s 777ms/step - loss: 0.9375 - accuracy: 0.6636 - val_loss: 1.3949 - val_accuracy: 0.5490\n",
      "Epoch 41/100\n",
      "18/18 [==============================] - 13s 729ms/step - loss: 0.9686 - accuracy: 0.6579 - val_loss: 1.5674 - val_accuracy: 0.5000\n",
      "Epoch 42/100\n",
      "18/18 [==============================] - 13s 733ms/step - loss: 0.9702 - accuracy: 0.6636 - val_loss: 1.5358 - val_accuracy: 0.5392\n",
      "Epoch 43/100\n",
      "18/18 [==============================] - 13s 728ms/step - loss: 0.8893 - accuracy: 0.6860 - val_loss: 1.4298 - val_accuracy: 0.5098\n",
      "Epoch 44/100\n",
      "18/18 [==============================] - 14s 762ms/step - loss: 0.8990 - accuracy: 0.6916 - val_loss: 1.2939 - val_accuracy: 0.5784\n",
      "Epoch 45/100\n",
      "18/18 [==============================] - 13s 724ms/step - loss: 0.8260 - accuracy: 0.7308 - val_loss: 1.5501 - val_accuracy: 0.5392\n",
      "Epoch 46/100\n",
      "18/18 [==============================] - 14s 758ms/step - loss: 0.7843 - accuracy: 0.7402 - val_loss: 1.5310 - val_accuracy: 0.5686\n",
      "Epoch 47/100\n",
      "18/18 [==============================] - 13s 721ms/step - loss: 0.7515 - accuracy: 0.7252 - val_loss: 1.3609 - val_accuracy: 0.6078\n",
      "Epoch 48/100\n",
      "18/18 [==============================] - 13s 730ms/step - loss: 0.7028 - accuracy: 0.7645 - val_loss: 1.5452 - val_accuracy: 0.5196\n",
      "Epoch 49/100\n",
      "18/18 [==============================] - 14s 772ms/step - loss: 0.8027 - accuracy: 0.7140 - val_loss: 1.4060 - val_accuracy: 0.5784\n",
      "Epoch 50/100\n",
      "18/18 [==============================] - 13s 720ms/step - loss: 0.8638 - accuracy: 0.6953 - val_loss: 1.4664 - val_accuracy: 0.5098\n",
      "Epoch 51/100\n",
      "18/18 [==============================] - 14s 773ms/step - loss: 0.7976 - accuracy: 0.7215 - val_loss: 1.6886 - val_accuracy: 0.5784\n",
      "Epoch 52/100\n",
      "18/18 [==============================] - 13s 727ms/step - loss: 0.8119 - accuracy: 0.7215 - val_loss: 1.3849 - val_accuracy: 0.5588\n",
      "Epoch 53/100\n",
      "18/18 [==============================] - 13s 720ms/step - loss: 0.7239 - accuracy: 0.7477 - val_loss: 1.5885 - val_accuracy: 0.4902\n",
      "Epoch 54/100\n",
      "18/18 [==============================] - 13s 737ms/step - loss: 0.7540 - accuracy: 0.7364 - val_loss: 1.3654 - val_accuracy: 0.5686\n",
      "Epoch 55/100\n",
      "18/18 [==============================] - 14s 790ms/step - loss: 0.7788 - accuracy: 0.7364 - val_loss: 1.6708 - val_accuracy: 0.5686\n",
      "Epoch 56/100\n",
      "18/18 [==============================] - 13s 745ms/step - loss: 0.7191 - accuracy: 0.7533 - val_loss: 1.7200 - val_accuracy: 0.5490\n",
      "Epoch 57/100\n",
      "18/18 [==============================] - 14s 765ms/step - loss: 0.6938 - accuracy: 0.7664 - val_loss: 1.4927 - val_accuracy: 0.5882\n",
      "Epoch 58/100\n",
      "18/18 [==============================] - 13s 728ms/step - loss: 0.6903 - accuracy: 0.7514 - val_loss: 1.7200 - val_accuracy: 0.5588\n",
      "Epoch 59/100\n",
      "18/18 [==============================] - 14s 743ms/step - loss: 0.6811 - accuracy: 0.7626 - val_loss: 1.6969 - val_accuracy: 0.5588\n",
      "Epoch 60/100\n",
      "18/18 [==============================] - 13s 732ms/step - loss: 0.7028 - accuracy: 0.7682 - val_loss: 1.3888 - val_accuracy: 0.6176\n",
      "Epoch 61/100\n",
      "18/18 [==============================] - 14s 765ms/step - loss: 0.6781 - accuracy: 0.7645 - val_loss: 1.2942 - val_accuracy: 0.6569\n",
      "Epoch 62/100\n",
      "18/18 [==============================] - 14s 762ms/step - loss: 0.5945 - accuracy: 0.7981 - val_loss: 1.4508 - val_accuracy: 0.5588\n",
      "Epoch 63/100\n",
      "18/18 [==============================] - 13s 742ms/step - loss: 0.6519 - accuracy: 0.7701 - val_loss: 1.4490 - val_accuracy: 0.6373\n",
      "Epoch 64/100\n",
      "18/18 [==============================] - 14s 763ms/step - loss: 0.6113 - accuracy: 0.7720 - val_loss: 1.6423 - val_accuracy: 0.6078\n",
      "Epoch 65/100\n",
      "18/18 [==============================] - 14s 748ms/step - loss: 0.6589 - accuracy: 0.7776 - val_loss: 1.4173 - val_accuracy: 0.5882\n",
      "Epoch 66/100\n",
      "18/18 [==============================] - 13s 745ms/step - loss: 0.5954 - accuracy: 0.8037 - val_loss: 1.4739 - val_accuracy: 0.5980\n",
      "Epoch 67/100\n",
      "18/18 [==============================] - 14s 779ms/step - loss: 0.6234 - accuracy: 0.7776 - val_loss: 1.4593 - val_accuracy: 0.5980\n",
      "Epoch 68/100\n",
      "18/18 [==============================] - 13s 732ms/step - loss: 0.5808 - accuracy: 0.7850 - val_loss: 1.3719 - val_accuracy: 0.5882\n",
      "Epoch 69/100\n",
      "18/18 [==============================] - 13s 738ms/step - loss: 0.6464 - accuracy: 0.7776 - val_loss: 1.3597 - val_accuracy: 0.5784\n",
      "Epoch 70/100\n",
      "18/18 [==============================] - 13s 744ms/step - loss: 0.5904 - accuracy: 0.8000 - val_loss: 1.3142 - val_accuracy: 0.6569\n",
      "Epoch 71/100\n",
      "18/18 [==============================] - 14s 788ms/step - loss: 0.5692 - accuracy: 0.8056 - val_loss: 1.4133 - val_accuracy: 0.6078\n",
      "Epoch 72/100\n",
      "18/18 [==============================] - 13s 716ms/step - loss: 0.5799 - accuracy: 0.8019 - val_loss: 1.4013 - val_accuracy: 0.6078\n",
      "Epoch 73/100\n",
      "18/18 [==============================] - 13s 720ms/step - loss: 0.4672 - accuracy: 0.8393 - val_loss: 1.5465 - val_accuracy: 0.6078\n",
      "Epoch 74/100\n",
      "18/18 [==============================] - 14s 770ms/step - loss: 0.4813 - accuracy: 0.8280 - val_loss: 1.7495 - val_accuracy: 0.5784\n",
      "Epoch 75/100\n",
      "18/18 [==============================] - 14s 749ms/step - loss: 0.4736 - accuracy: 0.8355 - val_loss: 1.7921 - val_accuracy: 0.5392\n",
      "Epoch 76/100\n",
      "18/18 [==============================] - 13s 735ms/step - loss: 0.5108 - accuracy: 0.8280 - val_loss: 1.5134 - val_accuracy: 0.5980\n",
      "Epoch 77/100\n",
      "18/18 [==============================] - 14s 789ms/step - loss: 0.4922 - accuracy: 0.8206 - val_loss: 1.8282 - val_accuracy: 0.5392\n",
      "Epoch 78/100\n",
      "18/18 [==============================] - 13s 741ms/step - loss: 0.5323 - accuracy: 0.8150 - val_loss: 1.3980 - val_accuracy: 0.6176\n",
      "Epoch 79/100\n",
      "18/18 [==============================] - 14s 750ms/step - loss: 0.5033 - accuracy: 0.8262 - val_loss: 1.5901 - val_accuracy: 0.5980\n",
      "Epoch 80/100\n",
      "18/18 [==============================] - 13s 739ms/step - loss: 0.4683 - accuracy: 0.8374 - val_loss: 1.3751 - val_accuracy: 0.6373\n",
      "Epoch 81/100\n",
      "18/18 [==============================] - 14s 786ms/step - loss: 0.5151 - accuracy: 0.8168 - val_loss: 1.5960 - val_accuracy: 0.6176\n",
      "Epoch 82/100\n",
      "18/18 [==============================] - 13s 741ms/step - loss: 0.4963 - accuracy: 0.8505 - val_loss: 1.4676 - val_accuracy: 0.6961\n",
      "Epoch 83/100\n",
      "18/18 [==============================] - 13s 727ms/step - loss: 0.5096 - accuracy: 0.8224 - val_loss: 1.5406 - val_accuracy: 0.6176\n",
      "Epoch 84/100\n",
      "18/18 [==============================] - 13s 716ms/step - loss: 0.4511 - accuracy: 0.8636 - val_loss: 1.4626 - val_accuracy: 0.6569\n",
      "Epoch 85/100\n",
      "18/18 [==============================] - 14s 751ms/step - loss: 0.5235 - accuracy: 0.8187 - val_loss: 1.3224 - val_accuracy: 0.5392\n",
      "Epoch 86/100\n",
      "18/18 [==============================] - 13s 728ms/step - loss: 0.4727 - accuracy: 0.8336 - val_loss: 1.5315 - val_accuracy: 0.6471\n",
      "Epoch 87/100\n",
      "18/18 [==============================] - 13s 724ms/step - loss: 0.4820 - accuracy: 0.8542 - val_loss: 1.6290 - val_accuracy: 0.6863\n",
      "Epoch 88/100\n",
      "18/18 [==============================] - 13s 715ms/step - loss: 0.4354 - accuracy: 0.8355 - val_loss: 1.5313 - val_accuracy: 0.5588\n",
      "Epoch 89/100\n",
      "18/18 [==============================] - 14s 764ms/step - loss: 0.3692 - accuracy: 0.8766 - val_loss: 1.6680 - val_accuracy: 0.5980\n",
      "Epoch 90/100\n",
      "18/18 [==============================] - 13s 736ms/step - loss: 0.4171 - accuracy: 0.8561 - val_loss: 1.5697 - val_accuracy: 0.6373\n",
      "Epoch 91/100\n",
      "18/18 [==============================] - 14s 780ms/step - loss: 0.3901 - accuracy: 0.8804 - val_loss: 1.6766 - val_accuracy: 0.7059\n",
      "Epoch 92/100\n",
      "18/18 [==============================] - 13s 739ms/step - loss: 0.3964 - accuracy: 0.8523 - val_loss: 1.5072 - val_accuracy: 0.6667\n",
      "Epoch 93/100\n",
      "18/18 [==============================] - 14s 777ms/step - loss: 0.4011 - accuracy: 0.8579 - val_loss: 1.4126 - val_accuracy: 0.6176\n",
      "Epoch 94/100\n",
      "18/18 [==============================] - 13s 742ms/step - loss: 0.3972 - accuracy: 0.8542 - val_loss: 1.8288 - val_accuracy: 0.6373\n",
      "Epoch 95/100\n",
      "18/18 [==============================] - 14s 769ms/step - loss: 0.4395 - accuracy: 0.8393 - val_loss: 1.6770 - val_accuracy: 0.6373\n",
      "Epoch 96/100\n",
      "18/18 [==============================] - 13s 732ms/step - loss: 0.4476 - accuracy: 0.8393 - val_loss: 1.5138 - val_accuracy: 0.5980\n",
      "Epoch 97/100\n",
      "18/18 [==============================] - 14s 764ms/step - loss: 0.4704 - accuracy: 0.8224 - val_loss: 1.7190 - val_accuracy: 0.6078\n",
      "Epoch 98/100\n",
      "18/18 [==============================] - 14s 749ms/step - loss: 0.4080 - accuracy: 0.8561 - val_loss: 1.9275 - val_accuracy: 0.5392\n",
      "Epoch 99/100\n",
      "18/18 [==============================] - 14s 770ms/step - loss: 0.3852 - accuracy: 0.8710 - val_loss: 1.4998 - val_accuracy: 0.6176\n",
      "Epoch 100/100\n",
      "18/18 [==============================] - 13s 731ms/step - loss: 0.4091 - accuracy: 0.8636 - val_loss: 1.4012 - val_accuracy: 0.6275\n"
     ]
    }
   ],
   "source": [
    "history = model.fit(train_generator,\n",
    "                    epochs=100,\n",
    "                    verbose=1,\n",
    "                    validation_data=test_generator)"
   ]
  },
  {
   "cell_type": "code",
   "execution_count": 14,
   "id": "00c382f4",
   "metadata": {
    "execution": {
     "iopub.execute_input": "2023-06-06T14:57:27.027350Z",
     "iopub.status.busy": "2023-06-06T14:57:27.026976Z",
     "iopub.status.idle": "2023-06-06T14:57:27.645497Z",
     "shell.execute_reply": "2023-06-06T14:57:27.644519Z"
    },
    "id": "-tGYU7s_zrfr",
    "papermill": {
     "duration": 0.780073,
     "end_time": "2023-06-06T14:57:27.647576",
     "exception": false,
     "start_time": "2023-06-06T14:57:26.867503",
     "status": "completed"
    },
    "tags": []
   },
   "outputs": [
    {
     "data": {
      "image/png": "[encoded data removed]",
      "text/plain": [
       "<Figure size 640x480 with 1 Axes>"
      ]
     },
     "metadata": {},
     "output_type": "display_data"
    },
    {
     "data": {
      "text/plain": [
       "<Figure size 640x480 with 0 Axes>"
      ]
     },
     "metadata": {},
     "output_type": "display_data"
    },
    {
     "data": {
      "image/png": "[encoded data removed]",
      "text/plain": [
       "<Figure size 640x480 with 1 Axes>"
      ]
     },
     "metadata": {},
     "output_type": "display_data"
    },
    {
     "data": {
      "text/plain": [
       "<Figure size 640x480 with 0 Axes>"
      ]
     },
     "metadata": {},
     "output_type": "display_data"
    }
   ],
   "source": [
    "# Plot the training and validation accuracies for each epoch\n",
    "\n",
    "acc = history.history['accuracy']\n",
    "val_acc = history.history['val_accuracy']\n",
    "loss = history.history['loss']\n",
    "val_loss = history.history['val_loss']\n",
    "\n",
    "epochs = range(len(acc))\n",
    "\n",
    "plt.plot(epochs, acc, 'r', label='Training accuracy')\n",
    "plt.plot(epochs, val_acc, 'b', label='Validation accuracy')\n",
    "plt.title('Training and validation accuracy')\n",
    "plt.legend(loc=0)\n",
    "plt.figure()\n",
    "plt.show()\n",
    "\n",
    "plt.plot(epochs, loss, 'r', label='Training loss')\n",
    "plt.plot(epochs, val_loss, 'b', label='Validation loss')\n",
    "plt.title('Training and validation accuracy')\n",
    "plt.legend(loc=0)\n",
    "plt.figure()\n",
    "plt.show()"
   ]
  },
  {
   "cell_type": "code",
   "execution_count": 15,
   "id": "6a963f7f",
   "metadata": {
    "execution": {
     "iopub.execute_input": "2023-06-06T14:57:27.956995Z",
     "iopub.status.busy": "2023-06-06T14:57:27.956662Z",
     "iopub.status.idle": "2023-06-06T14:57:28.212471Z",
     "shell.execute_reply": "2023-06-06T14:57:28.211525Z"
    },
    "id": "p8hA2vsVWKQc",
    "papermill": {
     "duration": 0.414032,
     "end_time": "2023-06-06T14:57:28.215041",
     "exception": false,
     "start_time": "2023-06-06T14:57:27.801009",
     "status": "completed"
    },
    "tags": []
   },
   "outputs": [],
   "source": [
    "# Save your model in HDF5 format\n",
    "model.save('wisata_Semarang_v3.h5')"
   ]
  },
  {
   "cell_type": "code",
   "execution_count": 16,
   "id": "97af1468",
   "metadata": {
    "execution": {
     "iopub.execute_input": "2023-06-06T14:57:28.524019Z",
     "iopub.status.busy": "2023-06-06T14:57:28.523682Z",
     "iopub.status.idle": "2023-06-06T14:57:35.261796Z",
     "shell.execute_reply": "2023-06-06T14:57:35.260671Z"
    },
    "id": "Z8jM8Y9x2rus",
    "papermill": {
     "duration": 6.896383,
     "end_time": "2023-06-06T14:57:35.264417",
     "exception": false,
     "start_time": "2023-06-06T14:57:28.368034",
     "status": "completed"
    },
    "tags": []
   },
   "outputs": [
    {
     "name": "stdout",
     "output_type": "stream",
     "text": [
      "/opt/conda/lib/python3.10/site-packages/tensorflow_io/python/ops/__init__.py:98: UserWarning: unable to load libtensorflow_io_plugins.so: unable to open file: libtensorflow_io_plugins.so, from paths: ['/opt/conda/lib/python3.10/site-packages/tensorflow_io/python/ops/libtensorflow_io_plugins.so']\r\n",
      "caused by: ['/opt/conda/lib/python3.10/site-packages/tensorflow_io/python/ops/libtensorflow_io_plugins.so: undefined symbol: _ZN3tsl6StatusC1EN10tensorflow5error4CodeESt17basic_string_viewIcSt11char_traitsIcEENS_14SourceLocationE']\r\n",
      "  warnings.warn(f\"unable to load libtensorflow_io_plugins.so: {e}\")\r\n",
      "/opt/conda/lib/python3.10/site-packages/tensorflow_io/python/ops/__init__.py:104: UserWarning: file system plugins are not loaded: unable to open file: libtensorflow_io.so, from paths: ['/opt/conda/lib/python3.10/site-packages/tensorflow_io/python/ops/libtensorflow_io.so']\r\n",
      "caused by: ['/opt/conda/lib/python3.10/site-packages/tensorflow_io/python/ops/libtensorflow_io.so: undefined symbol: _ZTVN10tensorflow13GcsFileSystemE']\r\n",
      "  warnings.warn(f\"file system plugins are not loaded: {e}\")\r\n"
     ]
    }
   ],
   "source": [
    "# EXERCISE: Use the tensorflow.js converter to convert the saved Keras model into JSON format.\n",
    "\n",
    "# YOUR CODE HERE\n",
    "! tensorflowjs_converter \\\n",
    "    --input_format=keras \\\n",
    "    {'wisata_Semarang_v3.h5'} \\\n",
    "    \"./\""
   ]
  },
  {
   "cell_type": "code",
   "execution_count": null,
   "id": "a18a1fce",
   "metadata": {
    "papermill": {
     "duration": 0.155464,
     "end_time": "2023-06-06T14:57:35.575255",
     "exception": false,
     "start_time": "2023-06-06T14:57:35.419791",
     "status": "completed"
    },
    "tags": []
   },
   "outputs": [],
   "source": []
  }
 ],
 "metadata": {
  "kernelspec": {
   "display_name": "Python 3",
   "language": "python",
   "name": "python3"
  },
  "language_info": {
   "codemirror_mode": {
    "name": "ipython",
    "version": 3
   },
   "file_extension": ".py",
   "mimetype": "text/x-python",
   "name": "python",
   "nbconvert_exporter": "python",
   "pygments_lexer": "ipython3",
   "version": "3.10.10"
  },
  "papermill": {
   "default_parameters": {},
   "duration": 1675.621794,
   "end_time": "2023-06-06T14:57:39.012102",
   "environment_variables": {},
   "exception": null,
   "input_path": "__notebook__.ipynb",
   "output_path": "__notebook__.ipynb",
   "parameters": {},
   "start_time": "2023-06-06T14:29:43.390308",
   "version": "2.4.0"
  }
 },
 "nbformat": 4,
 "nbformat_minor": 5
}
